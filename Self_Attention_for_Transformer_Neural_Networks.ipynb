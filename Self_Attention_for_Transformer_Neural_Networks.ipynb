{
 "cells": [
  {
   "cell_type": "markdown",
   "metadata": {
    "id": "gO5Z0qErNuOt"
   },
   "source": [
    "# Self Attention in Transformers"
   ]
  },
  {
   "cell_type": "markdown",
   "metadata": {
    "id": "HedntyUvLrBo"
   },
   "source": [
    "## Generate Data"
   ]
  },
  {
   "cell_type": "code",
   "execution_count": 1,
   "metadata": {
    "id": "xtKbaWhFJui3"
   },
   "outputs": [],
   "source": [
    "import numpy as np\n",
    "import math\n",
    "\n",
    "L, d_k, d_v = 4, 8, 8\n",
    "q = np.random.randn(L, d_k)\n",
    "k = np.random.randn(L, d_k)\n",
    "v = np.random.randn(L, d_v)"
   ]
  },
  {
   "cell_type": "code",
   "execution_count": 2,
   "metadata": {
    "colab": {
     "base_uri": "https://localhost:8080/"
    },
    "id": "09JpvuNJ2sZC",
    "outputId": "30d2c627-8647-44e0-aa92-c9e53e3b7843"
   },
   "outputs": [
    {
     "name": "stdout",
     "output_type": "stream",
     "text": [
      "Q\n",
      " [[-1.76349031 -0.07880513 -1.15513671 -0.21057209  0.74424039  0.82765225\n",
      "   0.0192568   1.48961222]\n",
      " [-0.54103414 -0.50396646 -0.18011104  0.54465742 -1.61525081 -0.87904977\n",
      "  -1.07513707 -0.04925841]\n",
      " [ 0.03908773 -0.56277519  0.15265451 -0.79751986 -1.12610502 -0.54959184\n",
      "   0.29082436 -0.65783831]\n",
      " [ 1.06499905  0.27957301 -0.39346881  0.24551245  0.50918087 -0.39092876\n",
      "   2.09970951  0.18345928]]\n",
      "K\n",
      " [[-0.33779617  0.58951322  2.01563811  0.49571726  0.55097651  0.38274338\n",
      "   1.06731527 -0.22021791]\n",
      " [ 1.64793253 -0.31745302 -0.26702562 -0.770391    0.26460754  1.28309513\n",
      "   0.95870637 -2.46016015]\n",
      " [-0.36042034  1.17402281 -0.58846035 -0.25589226  0.43745058 -0.55249164\n",
      "   0.23008756  0.44399825]\n",
      " [ 0.96153579 -0.35424022 -0.50452882 -0.892767    1.43270988 -2.644971\n",
      "  -1.8568502  -0.02916864]]\n",
      "V\n",
      " [[-2.57545071  0.53723243  0.0453602   1.43544355  0.06780701  0.55553782\n",
      "   0.68318127  0.55479496]\n",
      " [-0.36574114 -2.19010554  0.49446074  1.72304628 -1.2750318   1.70822737\n",
      "  -0.20716411 -0.62685314]\n",
      " [ 1.49240926 -0.03110761 -0.74747264  1.26176986  0.33959596 -0.16536377\n",
      "   1.14912445  0.38156212]\n",
      " [-0.3459211  -0.48264915 -1.46866364 -1.12405396 -0.38096535 -0.19507932\n",
      "   2.10683506 -0.74527535]]\n"
     ]
    }
   ],
   "source": [
    "print(\"Q\\n\", q)\n",
    "print(\"K\\n\", k)\n",
    "print(\"V\\n\", v)"
   ]
  },
  {
   "cell_type": "markdown",
   "metadata": {
    "id": "tV6txskBLwjh"
   },
   "source": [
    "## Self Attention\n",
    "\n",
    "$$\n",
    "\\text{self attention} = softmax\\bigg(\\frac{Q.K^T}{\\sqrt{d_k}}+M\\bigg)\n",
    "$$\n",
    "\n",
    "$$\n",
    "\\text{new V} = \\text{self attention}.V\n",
    "$$ "
   ]
  },
  {
   "cell_type": "code",
   "execution_count": 3,
   "metadata": {
    "colab": {
     "base_uri": "https://localhost:8080/"
    },
    "id": "x7GePHKk3Mh0",
    "outputId": "7dae7f5e-4715-4fd4-fbfd-7c0815e7d39e"
   },
   "outputs": [
    {
     "data": {
      "text/plain": [
       "array([[-1.46412703, -4.79775699,  1.81082808, -2.09899411],\n",
       "       [-2.57045658, -3.56797621, -0.92022489,  1.27160117],\n",
       "       [-0.8081562 ,  1.71075636, -0.97468528,  0.19136634],\n",
       "       [ 1.46524573,  2.77702094,  1.1163928 , -1.23636393]])"
      ]
     },
     "execution_count": 3,
     "metadata": {},
     "output_type": "execute_result"
    }
   ],
   "source": [
    "np.matmul(q, k.T)"
   ]
  },
  {
   "cell_type": "code",
   "execution_count": 4,
   "metadata": {
    "colab": {
     "base_uri": "https://localhost:8080/"
    },
    "id": "odK76OoI3nL2",
    "outputId": "69b50cdb-9a41-45ae-bfd2-619228af1ef7"
   },
   "outputs": [
    {
     "data": {
      "text/plain": [
       "(0.6939387331648185, 1.1178149717330133, 4.23453464871582)"
      ]
     },
     "execution_count": 4,
     "metadata": {},
     "output_type": "execute_result"
    }
   ],
   "source": [
    "# Why we need sqrt(d_k) in denominator\n",
    "q.var(), k.var(), np.matmul(q, k.T).var()"
   ]
  },
  {
   "cell_type": "code",
   "execution_count": 5,
   "metadata": {
    "colab": {
     "base_uri": "https://localhost:8080/"
    },
    "id": "0Ps6AY1Q3tRI",
    "outputId": "3b9ac3c8-70b8-47bd-e868-e7d6fd26d270"
   },
   "outputs": [
    {
     "data": {
      "text/plain": [
       "(0.6939387331648185, 1.1178149717330133, 0.5293168310894775)"
      ]
     },
     "execution_count": 5,
     "metadata": {},
     "output_type": "execute_result"
    }
   ],
   "source": [
    "scaled = np.matmul(q, k.T) / math.sqrt(d_k)\n",
    "q.var(), k.var(), scaled.var()"
   ]
  },
  {
   "cell_type": "markdown",
   "metadata": {
    "id": "ypO9IK1PL3cJ"
   },
   "source": [
    "Notice the reduction in variance of the product"
   ]
  },
  {
   "cell_type": "code",
   "execution_count": 6,
   "metadata": {
    "colab": {
     "base_uri": "https://localhost:8080/"
    },
    "id": "LVHAJR4N4VQX",
    "outputId": "52b06cf8-0381-453c-b576-0bd8de9a38b5"
   },
   "outputs": [
    {
     "data": {
      "text/plain": [
       "array([[-0.51764708, -1.69626325,  0.64022441, -0.74210648],\n",
       "       [-0.90879364, -1.26147009, -0.32534863,  0.4495789 ],\n",
       "       [-0.28572637,  0.60484371, -0.34460329,  0.06765822],\n",
       "       [ 0.5180426 ,  0.98182517,  0.39470446, -0.43712066]])"
      ]
     },
     "execution_count": 6,
     "metadata": {},
     "output_type": "execute_result"
    }
   ],
   "source": [
    "scaled"
   ]
  },
  {
   "cell_type": "markdown",
   "metadata": {
    "id": "Dmz4v-RmMAaj"
   },
   "source": [
    "## Masking\n",
    "\n",
    "- This is to ensure words don't get context from words generated in the future. \n",
    "- Not required in the encoders, but required int he decoders"
   ]
  },
  {
   "cell_type": "code",
   "execution_count": 7,
   "metadata": {
    "colab": {
     "base_uri": "https://localhost:8080/"
    },
    "id": "e8N3OhSLILfG",
    "outputId": "2c63a444-066c-44b2-abe5-242dd989f311"
   },
   "outputs": [
    {
     "data": {
      "text/plain": [
       "array([[1., 0., 0., 0.],\n",
       "       [1., 1., 0., 0.],\n",
       "       [1., 1., 1., 0.],\n",
       "       [1., 1., 1., 1.]])"
      ]
     },
     "execution_count": 7,
     "metadata": {},
     "output_type": "execute_result"
    }
   ],
   "source": [
    "mask = np.tril(np.ones( (L, L) ))\n",
    "mask"
   ]
  },
  {
   "cell_type": "code",
   "execution_count": 8,
   "metadata": {
    "id": "hIV9K3Yn6s1V"
   },
   "outputs": [],
   "source": [
    "mask[mask == 0] = -np.infty\n",
    "mask[mask == 1] = 0"
   ]
  },
  {
   "cell_type": "code",
   "execution_count": 9,
   "metadata": {
    "colab": {
     "base_uri": "https://localhost:8080/"
    },
    "id": "LK5V_T3W6vpX",
    "outputId": "bb4160a1-a011-4850-e403-9cb252572c66"
   },
   "outputs": [
    {
     "data": {
      "text/plain": [
       "array([[  0., -inf, -inf, -inf],\n",
       "       [  0.,   0., -inf, -inf],\n",
       "       [  0.,   0.,   0., -inf],\n",
       "       [  0.,   0.,   0.,   0.]])"
      ]
     },
     "execution_count": 9,
     "metadata": {},
     "output_type": "execute_result"
    }
   ],
   "source": [
    "mask"
   ]
  },
  {
   "cell_type": "code",
   "execution_count": 10,
   "metadata": {
    "colab": {
     "base_uri": "https://localhost:8080/"
    },
    "id": "lNH1VgEf7xTa",
    "outputId": "4211c411-0356-4e39-8388-d39b0c1d0920"
   },
   "outputs": [
    {
     "data": {
      "text/plain": [
       "array([[-0.51764708,        -inf,        -inf,        -inf],\n",
       "       [-0.90879364, -1.26147009,        -inf,        -inf],\n",
       "       [-0.28572637,  0.60484371, -0.34460329,        -inf],\n",
       "       [ 0.5180426 ,  0.98182517,  0.39470446, -0.43712066]])"
      ]
     },
     "execution_count": 10,
     "metadata": {},
     "output_type": "execute_result"
    }
   ],
   "source": [
    "scaled + mask"
   ]
  },
  {
   "cell_type": "markdown",
   "metadata": {
    "id": "XMTAXjooN9eZ"
   },
   "source": [
    "## Softmax\n",
    "\n",
    "$$\n",
    "\\text{softmax} = \\frac{e^{x_i}}{\\sum_j e^x_j}\n",
    "$$"
   ]
  },
  {
   "cell_type": "code",
   "execution_count": 11,
   "metadata": {
    "id": "2R4gdRqj8W4Y"
   },
   "outputs": [],
   "source": [
    "def softmax(x):\n",
    "    return (np.exp(x).T / np.sum(np.exp(x), axis=-1)).T"
   ]
  },
  {
   "cell_type": "code",
   "execution_count": 12,
   "metadata": {
    "id": "K5eg2zPy41sP"
   },
   "outputs": [],
   "source": [
    "attention = softmax(scaled + mask)"
   ]
  },
  {
   "cell_type": "code",
   "execution_count": 13,
   "metadata": {
    "colab": {
     "base_uri": "https://localhost:8080/"
    },
    "id": "7sauNmfl-1TB",
    "outputId": "46b22beb-9034-4c7c-8d56-04209d2581c4"
   },
   "outputs": [
    {
     "data": {
      "text/plain": [
       "array([[1.        , 0.        , 0.        , 0.        ],\n",
       "       [0.58726646, 0.41273354, 0.        , 0.        ],\n",
       "       [0.22834486, 0.55636641, 0.21528874, 0.        ],\n",
       "       [0.25914851, 0.41206614, 0.22907814, 0.09970721]])"
      ]
     },
     "execution_count": 13,
     "metadata": {},
     "output_type": "execute_result"
    }
   ],
   "source": [
    "attention"
   ]
  },
  {
   "cell_type": "code",
   "execution_count": 14,
   "metadata": {
    "colab": {
     "base_uri": "https://localhost:8080/"
    },
    "id": "BAy37go56LZo",
    "outputId": "78d97fa1-e0b3-4c1d-8294-bf0fdb77f199"
   },
   "outputs": [
    {
     "data": {
      "text/plain": [
       "array([[-2.57545071,  0.53723243,  0.0453602 ,  1.43544355,  0.06780701,\n",
       "         0.55553782,  0.68318127,  0.55479496],\n",
       "       [-1.66342946, -0.58843143,  0.23071905,  1.55414685, -0.48642761,\n",
       "         1.03129146,  0.31570587,  0.06708916],\n",
       "       [-0.4702781 , -1.10252401,  0.12453667,  1.55806606, -0.6207903 ,\n",
       "         1.04165357,  0.28813533, -0.13992943],\n",
       "       [-0.51074625, -0.81849502, -0.10216045,  1.25896969, -0.46801633,\n",
       "         0.79053741,  0.56498604, -0.10143245]])"
      ]
     },
     "execution_count": 14,
     "metadata": {},
     "output_type": "execute_result"
    }
   ],
   "source": [
    "new_v = np.matmul(attention, v)\n",
    "new_v"
   ]
  },
  {
   "cell_type": "code",
   "execution_count": 15,
   "metadata": {
    "colab": {
     "base_uri": "https://localhost:8080/"
    },
    "id": "vCP2aZOU9VrT",
    "outputId": "e1fe2137-cd95-4a4b-fa1a-3ec21c38104c"
   },
   "outputs": [
    {
     "data": {
      "text/plain": [
       "array([[-2.57545071,  0.53723243,  0.0453602 ,  1.43544355,  0.06780701,\n",
       "         0.55553782,  0.68318127,  0.55479496],\n",
       "       [-0.36574114, -2.19010554,  0.49446074,  1.72304628, -1.2750318 ,\n",
       "         1.70822737, -0.20716411, -0.62685314],\n",
       "       [ 1.49240926, -0.03110761, -0.74747264,  1.26176986,  0.33959596,\n",
       "        -0.16536377,  1.14912445,  0.38156212],\n",
       "       [-0.3459211 , -0.48264915, -1.46866364, -1.12405396, -0.38096535,\n",
       "        -0.19507932,  2.10683506, -0.74527535]])"
      ]
     },
     "execution_count": 15,
     "metadata": {},
     "output_type": "execute_result"
    }
   ],
   "source": [
    "v"
   ]
  },
  {
   "cell_type": "code",
   "execution_count": null,
   "metadata": {
    "id": "h_JndWelLDNW"
   },
   "outputs": [],
   "source": []
  },
  {
   "cell_type": "markdown",
   "metadata": {
    "id": "nSiJuBQELFHT"
   },
   "source": [
    "# Function"
   ]
  },
  {
   "cell_type": "markdown",
   "metadata": {},
   "source": [
    "- Use mask in case of Decoder only, otherwise use mask=None."
   ]
  },
  {
   "cell_type": "code",
   "execution_count": 16,
   "metadata": {
    "id": "XvTnmdcB_jdq"
   },
   "outputs": [],
   "source": [
    "def softmax(x):\n",
    "    return (np.exp(x).T / np.sum(np.exp(x), axis=-1)).T\n",
    "\n",
    "def scaled_dot_product_attention(q, k, v, mask=None):\n",
    "    d_k = q.shape[-1]\n",
    "    scaled = np.matmul(q, k.T) / math.sqrt(d_k)\n",
    "    if mask is not None:\n",
    "        scaled = scaled + mask\n",
    "    attention = softmax(scaled)\n",
    "    out = np.matmul(attention, v)\n",
    "    return out, attention"
   ]
  },
  {
   "cell_type": "code",
   "execution_count": 17,
   "metadata": {
    "colab": {
     "base_uri": "https://localhost:8080/"
    },
    "id": "KSxLkZdiSLMT",
    "outputId": "ca70508d-fb6e-4eec-acb6-7a89a60dffa8"
   },
   "outputs": [
    {
     "name": "stdout",
     "output_type": "stream",
     "text": [
      "Q\n",
      " [[-1.76349031 -0.07880513 -1.15513671 -0.21057209  0.74424039  0.82765225\n",
      "   0.0192568   1.48961222]\n",
      " [-0.54103414 -0.50396646 -0.18011104  0.54465742 -1.61525081 -0.87904977\n",
      "  -1.07513707 -0.04925841]\n",
      " [ 0.03908773 -0.56277519  0.15265451 -0.79751986 -1.12610502 -0.54959184\n",
      "   0.29082436 -0.65783831]\n",
      " [ 1.06499905  0.27957301 -0.39346881  0.24551245  0.50918087 -0.39092876\n",
      "   2.09970951  0.18345928]]\n",
      "K\n",
      " [[-0.33779617  0.58951322  2.01563811  0.49571726  0.55097651  0.38274338\n",
      "   1.06731527 -0.22021791]\n",
      " [ 1.64793253 -0.31745302 -0.26702562 -0.770391    0.26460754  1.28309513\n",
      "   0.95870637 -2.46016015]\n",
      " [-0.36042034  1.17402281 -0.58846035 -0.25589226  0.43745058 -0.55249164\n",
      "   0.23008756  0.44399825]\n",
      " [ 0.96153579 -0.35424022 -0.50452882 -0.892767    1.43270988 -2.644971\n",
      "  -1.8568502  -0.02916864]]\n",
      "V\n",
      " [[-2.57545071  0.53723243  0.0453602   1.43544355  0.06780701  0.55553782\n",
      "   0.68318127  0.55479496]\n",
      " [-0.36574114 -2.19010554  0.49446074  1.72304628 -1.2750318   1.70822737\n",
      "  -0.20716411 -0.62685314]\n",
      " [ 1.49240926 -0.03110761 -0.74747264  1.26176986  0.33959596 -0.16536377\n",
      "   1.14912445  0.38156212]\n",
      " [-0.3459211  -0.48264915 -1.46866364 -1.12405396 -0.38096535 -0.19507932\n",
      "   2.10683506 -0.74527535]]\n",
      "New V\n",
      " [[-2.57545071  0.53723243  0.0453602   1.43544355  0.06780701  0.55553782\n",
      "   0.68318127  0.55479496]\n",
      " [-1.66342946 -0.58843143  0.23071905  1.55414685 -0.48642761  1.03129146\n",
      "   0.31570587  0.06708916]\n",
      " [-0.4702781  -1.10252401  0.12453667  1.55806606 -0.6207903   1.04165357\n",
      "   0.28813533 -0.13992943]\n",
      " [-0.51074625 -0.81849502 -0.10216045  1.25896969 -0.46801633  0.79053741\n",
      "   0.56498604 -0.10143245]]\n",
      "Attention\n",
      " [[1.         0.         0.         0.        ]\n",
      " [0.58726646 0.41273354 0.         0.        ]\n",
      " [0.22834486 0.55636641 0.21528874 0.        ]\n",
      " [0.25914851 0.41206614 0.22907814 0.09970721]]\n"
     ]
    }
   ],
   "source": [
    "values, attention = scaled_dot_product_attention(q, k, v, mask=mask)\n",
    "print(\"Q\\n\", q)\n",
    "print(\"K\\n\", k)\n",
    "print(\"V\\n\", v)\n",
    "print(\"New V\\n\", values)\n",
    "print(\"Attention\\n\", attention)"
   ]
  }
 ],
 "metadata": {
  "colab": {
   "provenance": []
  },
  "hide_input": false,
  "kernelspec": {
   "display_name": "Tensorflow",
   "language": "python",
   "name": "tensorflow"
  },
  "language_info": {
   "codemirror_mode": {
    "name": "ipython",
    "version": 3
   },
   "file_extension": ".py",
   "mimetype": "text/x-python",
   "name": "python",
   "nbconvert_exporter": "python",
   "pygments_lexer": "ipython3",
   "version": "3.10.9"
  },
  "toc": {
   "base_numbering": 1,
   "nav_menu": {},
   "number_sections": true,
   "sideBar": true,
   "skip_h1_title": false,
   "title_cell": "Table of Contents",
   "title_sidebar": "Contents",
   "toc_cell": false,
   "toc_position": {},
   "toc_section_display": true,
   "toc_window_display": false
  }
 },
 "nbformat": 4,
 "nbformat_minor": 1
}
